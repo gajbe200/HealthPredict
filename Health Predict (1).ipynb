{
 "cells": [
  {
   "cell_type": "code",
   "execution_count": 1,
   "id": "bd349a38",
   "metadata": {},
   "outputs": [],
   "source": [
    "import pandas as pd\n",
    "import numpy as np\n",
    "from sklearn.model_selection import train_test_split\n",
    "from sklearn.ensemble import RandomForestClassifier, GradientBoostingClassifier\n",
    "from sklearn.metrics import accuracy_score, classification_report, confusion_matrix\n",
    "from sklearn.preprocessing import StandardScaler\n",
    "import matplotlib.pyplot as plt\n",
    "import seaborn as sns"
   ]
  },
  {
   "cell_type": "code",
   "execution_count": 2,
   "id": "76d6f0e0",
   "metadata": {},
   "outputs": [],
   "source": [
    "#Step 1: Load the dataset\n",
    "file_path = r\"C:\\Users\\91942\\OneDrive\\Desktop\\heart.csv\"  \n",
    "data = pd.read_csv(file_path)"
   ]
  },
  {
   "cell_type": "code",
   "execution_count": 3,
   "id": "b39230ed",
   "metadata": {},
   "outputs": [
    {
     "name": "stdout",
     "output_type": "stream",
     "text": [
      "   age  sex  cp  trestbps  chol  fbs  restecg  thalach  exang  oldpeak  slope  \\\n",
      "0   63    1   3       145   233    1        0      150      0      2.3      0   \n",
      "1   37    1   2       130   250    0        1      187      0      3.5      0   \n",
      "2   41    0   1       130   204    0        0      172      0      1.4      2   \n",
      "3   56    1   1       120   236    0        1      178      0      0.8      2   \n",
      "4   57    0   0       120   354    0        1      163      1      0.6      2   \n",
      "\n",
      "   ca  thal  target  \n",
      "0   0     1       1  \n",
      "1   0     2       1  \n",
      "2   0     2       1  \n",
      "3   0     2       1  \n",
      "4   0     2       1  \n"
     ]
    }
   ],
   "source": [
    "# Step 2 : Explore the dataset\n",
    "print(data.head())"
   ]
  },
  {
   "cell_type": "code",
   "execution_count": 4,
   "id": "f1c660ef",
   "metadata": {},
   "outputs": [
    {
     "name": "stdout",
     "output_type": "stream",
     "text": [
      "\n",
      "Dataset Info:\n",
      "<class 'pandas.core.frame.DataFrame'>\n",
      "RangeIndex: 303 entries, 0 to 302\n",
      "Data columns (total 14 columns):\n",
      " #   Column    Non-Null Count  Dtype  \n",
      "---  ------    --------------  -----  \n",
      " 0   age       303 non-null    int64  \n",
      " 1   sex       303 non-null    int64  \n",
      " 2   cp        303 non-null    int64  \n",
      " 3   trestbps  303 non-null    int64  \n",
      " 4   chol      303 non-null    int64  \n",
      " 5   fbs       303 non-null    int64  \n",
      " 6   restecg   303 non-null    int64  \n",
      " 7   thalach   303 non-null    int64  \n",
      " 8   exang     303 non-null    int64  \n",
      " 9   oldpeak   303 non-null    float64\n",
      " 10  slope     303 non-null    int64  \n",
      " 11  ca        303 non-null    int64  \n",
      " 12  thal      303 non-null    int64  \n",
      " 13  target    303 non-null    int64  \n",
      "dtypes: float64(1), int64(13)\n",
      "memory usage: 33.3 KB\n",
      "None\n"
     ]
    }
   ],
   "source": [
    "print(\"\\nDataset Info:\")\n",
    "print(data.info())"
   ]
  },
  {
   "cell_type": "code",
   "execution_count": 5,
   "id": "08d4fee0",
   "metadata": {},
   "outputs": [
    {
     "name": "stdout",
     "output_type": "stream",
     "text": [
      "              age         sex          cp    trestbps        chol         fbs  \\\n",
      "count  303.000000  303.000000  303.000000  303.000000  303.000000  303.000000   \n",
      "mean    54.366337    0.683168    0.966997  131.623762  246.264026    0.148515   \n",
      "std      9.082101    0.466011    1.032052   17.538143   51.830751    0.356198   \n",
      "min     29.000000    0.000000    0.000000   94.000000  126.000000    0.000000   \n",
      "25%     47.500000    0.000000    0.000000  120.000000  211.000000    0.000000   \n",
      "50%     55.000000    1.000000    1.000000  130.000000  240.000000    0.000000   \n",
      "75%     61.000000    1.000000    2.000000  140.000000  274.500000    0.000000   \n",
      "max     77.000000    1.000000    3.000000  200.000000  564.000000    1.000000   \n",
      "\n",
      "          restecg     thalach       exang     oldpeak       slope          ca  \\\n",
      "count  303.000000  303.000000  303.000000  303.000000  303.000000  303.000000   \n",
      "mean     0.528053  149.646865    0.326733    1.039604    1.399340    0.729373   \n",
      "std      0.525860   22.905161    0.469794    1.161075    0.616226    1.022606   \n",
      "min      0.000000   71.000000    0.000000    0.000000    0.000000    0.000000   \n",
      "25%      0.000000  133.500000    0.000000    0.000000    1.000000    0.000000   \n",
      "50%      1.000000  153.000000    0.000000    0.800000    1.000000    0.000000   \n",
      "75%      1.000000  166.000000    1.000000    1.600000    2.000000    1.000000   \n",
      "max      2.000000  202.000000    1.000000    6.200000    2.000000    4.000000   \n",
      "\n",
      "             thal      target  \n",
      "count  303.000000  303.000000  \n",
      "mean     2.313531    0.544554  \n",
      "std      0.612277    0.498835  \n",
      "min      0.000000    0.000000  \n",
      "25%      2.000000    0.000000  \n",
      "50%      2.000000    1.000000  \n",
      "75%      3.000000    1.000000  \n",
      "max      3.000000    1.000000  \n"
     ]
    }
   ],
   "source": [
    "print(data.describe())"
   ]
  },
  {
   "cell_type": "code",
   "execution_count": 6,
   "id": "1b24ae9e",
   "metadata": {},
   "outputs": [],
   "source": [
    "# Step 3: Define features and target variable\n",
    "X = data.drop(columns=['target'])  # Features\n",
    "y = data['target']  # Target variable (presence of heart disease: 1/0)"
   ]
  },
  {
   "cell_type": "code",
   "execution_count": 7,
   "id": "1c99e28b",
   "metadata": {},
   "outputs": [],
   "source": [
    "# Step 4: Split the data into training and testing sets\n",
    "X_train, X_test, y_train, y_test = train_test_split(X, y, test_size=0.2, random_state=42, stratify=y)"
   ]
  },
  {
   "cell_type": "code",
   "execution_count": 8,
   "id": "c2b6dad8",
   "metadata": {},
   "outputs": [],
   "source": [
    "# Step 5: Scale the features (optional but improves performance for certain models)\n",
    "scaler = StandardScaler()\n",
    "X_train_scaled = scaler.fit_transform(X_train)\n",
    "X_test_scaled = scaler.transform(X_test)"
   ]
  },
  {
   "cell_type": "code",
   "execution_count": 9,
   "id": "a06aad0a",
   "metadata": {},
   "outputs": [
    {
     "data": {
      "text/plain": [
       "RandomForestClassifier(random_state=42)"
      ]
     },
     "execution_count": 9,
     "metadata": {},
     "output_type": "execute_result"
    }
   ],
   "source": [
    "# Step 6: Build and train ensemble models\n",
    "# 6.1 Random Forest Classifier\n",
    "rf_model = RandomForestClassifier(n_estimators=100, random_state=42)\n",
    "rf_model.fit(X_train_scaled, y_train)"
   ]
  },
  {
   "cell_type": "code",
   "execution_count": 10,
   "id": "0f92f423",
   "metadata": {},
   "outputs": [
    {
     "data": {
      "text/plain": [
       "GradientBoostingClassifier(random_state=42)"
      ]
     },
     "execution_count": 10,
     "metadata": {},
     "output_type": "execute_result"
    }
   ],
   "source": [
    "# 6.2 Gradient Boosting Classifier\n",
    "gb_model = GradientBoostingClassifier(n_estimators=100, learning_rate=0.1, random_state=42)\n",
    "gb_model.fit(X_train_scaled, y_train)"
   ]
  },
  {
   "cell_type": "code",
   "execution_count": 11,
   "id": "dcefa97d",
   "metadata": {},
   "outputs": [],
   "source": [
    "# Step 7: Evaluate both models\n",
    "# Random Forest Evaluation\n",
    "rf_preds = rf_model.predict(X_test_scaled)\n",
    "rf_accuracy = accuracy_score(y_test, rf_preds)\n",
    "rf_classification_report = classification_report(y_test, rf_preds)"
   ]
  },
  {
   "cell_type": "code",
   "execution_count": 12,
   "id": "0493c097",
   "metadata": {},
   "outputs": [],
   "source": [
    "# Gradient Boosting Evaluation\n",
    "gb_preds = gb_model.predict(X_test_scaled)\n",
    "gb_accuracy = accuracy_score(y_test, gb_preds)\n",
    "gb_classification_report = classification_report(y_test, gb_preds)"
   ]
  },
  {
   "cell_type": "code",
   "execution_count": 13,
   "id": "4de3c35e",
   "metadata": {},
   "outputs": [
    {
     "name": "stdout",
     "output_type": "stream",
     "text": [
      "\n",
      "Random Forest Model Evaluation:\n",
      "Accuracy: 0.8360655737704918\n",
      "Classification Report:\n",
      "              precision    recall  f1-score   support\n",
      "\n",
      "           0       0.95      0.68      0.79        28\n",
      "           1       0.78      0.97      0.86        33\n",
      "\n",
      "    accuracy                           0.84        61\n",
      "   macro avg       0.87      0.82      0.83        61\n",
      "weighted avg       0.86      0.84      0.83        61\n",
      "\n"
     ]
    }
   ],
   "source": [
    "# Step 8: Display results\n",
    "print(\"\\nRandom Forest Model Evaluation:\")\n",
    "print(f\"Accuracy: {rf_accuracy}\")\n",
    "print(\"Classification Report:\")\n",
    "print(rf_classification_report)\n"
   ]
  },
  {
   "cell_type": "code",
   "execution_count": 14,
   "id": "76ba895a",
   "metadata": {},
   "outputs": [
    {
     "name": "stdout",
     "output_type": "stream",
     "text": [
      "\n",
      "Gradient Boosting Model Evaluation:\n",
      "Accuracy: 0.819672131147541\n",
      "Classification Report:\n",
      "              precision    recall  f1-score   support\n",
      "\n",
      "           0       0.87      0.71      0.78        28\n",
      "           1       0.79      0.91      0.85        33\n",
      "\n",
      "    accuracy                           0.82        61\n",
      "   macro avg       0.83      0.81      0.81        61\n",
      "weighted avg       0.83      0.82      0.82        61\n",
      "\n"
     ]
    }
   ],
   "source": [
    "print(\"\\nGradient Boosting Model Evaluation:\")\n",
    "print(f\"Accuracy: {gb_accuracy}\")\n",
    "print(\"Classification Report:\")\n",
    "print(gb_classification_report)"
   ]
  },
  {
   "cell_type": "code",
   "execution_count": 15,
   "id": "644dfc86",
   "metadata": {},
   "outputs": [],
   "source": [
    "# Step 9: Feature Importance (Optional for interpretability)\n",
    "rf_feature_importance = pd.DataFrame({\n",
    "    \"Feature\": X.columns,\n",
    "    \"Importance\": rf_model.feature_importances_\n",
    "}).sort_values(by=\"Importance\", ascending=False)"
   ]
  },
  {
   "cell_type": "code",
   "execution_count": 16,
   "id": "e046bda9",
   "metadata": {},
   "outputs": [
    {
     "name": "stdout",
     "output_type": "stream",
     "text": [
      "\n",
      "Random Forest Feature Importances:\n",
      "     Feature  Importance\n",
      "2         cp    0.157392\n",
      "7    thalach    0.117491\n",
      "9    oldpeak    0.113399\n",
      "12      thal    0.107062\n",
      "4       chol    0.087131\n",
      "11        ca    0.086078\n",
      "0        age    0.077759\n",
      "3   trestbps    0.074127\n",
      "10     slope    0.059454\n",
      "8      exang    0.057655\n",
      "1        sex    0.030452\n",
      "6    restecg    0.022112\n",
      "5        fbs    0.009889\n"
     ]
    }
   ],
   "source": [
    "print(\"\\nRandom Forest Feature Importances:\")\n",
    "print(rf_feature_importance)"
   ]
  },
  {
   "cell_type": "code",
   "execution_count": 17,
   "id": "d44a3960",
   "metadata": {},
   "outputs": [
    {
     "data": {
      "image/png": "[encoded data removed]",
      "text/plain": [
       "<Figure size 576x432 with 1 Axes>"
      ]
     },
     "metadata": {
      "needs_background": "light"
     },
     "output_type": "display_data"
    }
   ],
   "source": [
    "# Segment 1: Age Groups\n",
    "# Young Adults: 29-40, Middle-Aged: 41-60, Seniors: 61+\n",
    "data['age_group'] = pd.cut(data['age'], bins=[29, 40, 60, 100], labels=['Young Adults', 'Middle-Aged', 'Seniors'])\n",
    "\n",
    "plt.figure(figsize=(8, 6))\n",
    "sns.countplot(data=data, x='age_group', hue='target', palette='Set2')\n",
    "plt.title('Heart Disease by Age Group')\n",
    "plt.xlabel('Age Group')\n",
    "plt.ylabel('Count')\n",
    "plt.legend(title='Heart Disease (1=Yes, 0=No)')\n",
    "plt.show()"
   ]
  },
  {
   "cell_type": "code",
   "execution_count": 18,
   "id": "57ab2fa2",
   "metadata": {},
   "outputs": [
    {
     "data": {
      "image/png": "[encoded data removed]",
      "text/plain": [
       "<Figure size 720x432 with 1 Axes>"
      ]
     },
     "metadata": {
      "needs_background": "light"
     },
     "output_type": "display_data"
    }
   ],
   "source": [
    "# Chest pain type and target\n",
    "# Segment 2: Chest Pain Type (Categorical Segmentation)\n",
    "# 0: Typical Angina, 1: Atypical Angina, 2: Non-Anginal Pain, 3: Asymptomatic\n",
    "chest_pain_mapping = {0: 'Typical Angina', 1: 'Atypical Angina', 2: 'Non-Anginal Pain', 3: 'Asymptomatic'}\n",
    "data['chest_pain_type'] = data['cp'].map(chest_pain_mapping)\n",
    "\n",
    "plt.figure(figsize=(10, 6))\n",
    "sns.countplot(data=data, x='chest_pain_type', hue='target', palette='muted')\n",
    "plt.title('Heart Disease by Chest Pain Type')\n",
    "plt.xlabel('Chest Pain Type')\n",
    "plt.ylabel('Count')\n",
    "plt.legend(title='Heart Disease (1=Yes, 0=No)')\n",
    "plt.xticks(rotation=45)\n",
    "plt.show()"
   ]
  },
  {
   "cell_type": "code",
   "execution_count": 19,
   "id": "b121469f",
   "metadata": {},
   "outputs": [
    {
     "data": {
      "image/png": "[encoded data removed]",
      "text/plain": [
       "<Figure size 576x432 with 1 Axes>"
      ]
     },
     "metadata": {
      "needs_background": "light"
     },
     "output_type": "display_data"
    }
   ],
   "source": [
    "# Exercise-induced angina and target\n",
    "# Segment 3: Exercise-Induced Angina (Yes/No)\n",
    "data['exercise_angina'] = data['exang'].map({1: 'Yes', 0: 'No'})\n",
    "plt.figure(figsize=(8, 6))\n",
    "\n",
    "sns.countplot(data=data, x='exercise_angina', hue='target', palette='coolwarm')\n",
    "plt.title('Heart Disease by Exercise-Induced Angina')\n",
    "plt.xlabel('Exercise-Induced Angina')\n",
    "plt.ylabel('Count')\n",
    "plt.legend(title='Heart Disease (1=Yes, 0=No)')\n",
    "plt.show()"
   ]
  },
  {
   "cell_type": "code",
   "execution_count": 20,
   "id": "2e5af541",
   "metadata": {},
   "outputs": [
    {
     "data": {
      "image/png": "[encoded data removed]",
      "text/plain": [
       "<Figure size 576x432 with 1 Axes>"
      ]
     },
     "metadata": {
      "needs_background": "light"
     },
     "output_type": "display_data"
    }
   ],
   "source": [
    "# Countplot for cholesterol levels and target\n",
    "# Segment 2: Cholesterol Levels (Low: <200, Normal: 200-239, High: >=240)\n",
    "data['cholesterol_level'] = pd.cut(data['chol'], bins=[0, 200, 239, np.inf], labels=['Low', 'Normal', 'High'])\n",
    "\n",
    "plt.figure(figsize=(8, 6))\n",
    "sns.countplot(data=data, x='cholesterol_level', hue='target', palette='Set1')\n",
    "plt.title('Heart Disease by Cholesterol Level')\n",
    "plt.xlabel('Cholesterol Level')\n",
    "plt.ylabel('Count')\n",
    "plt.legend(title='Heart Disease (1=Yes, 0=No)')\n",
    "plt.show()\n"
   ]
  },
  {
   "cell_type": "code",
   "execution_count": 21,
   "id": "3239d243",
   "metadata": {},
   "outputs": [
    {
     "name": "stdout",
     "output_type": "stream",
     "text": [
      "\n",
      "Segment Summary (Heart Disease Probability):\n",
      "      age_group cholesterol_level  heart_disease_probability\n",
      "0  Young Adults               Low                   0.777778\n",
      "1  Young Adults            Normal                   0.500000\n",
      "2  Young Adults              High                   0.666667\n",
      "3   Middle-Aged               Low                   0.593750\n",
      "4   Middle-Aged            Normal                   0.632353\n",
      "5   Middle-Aged              High                   0.523810\n",
      "6       Seniors               Low                   0.400000\n",
      "7       Seniors            Normal                   0.545455\n",
      "8       Seniors              High                   0.404255\n"
     ]
    }
   ],
   "source": [
    "#  Summary statistics for segments\n",
    "segment_summary = data.groupby(['age_group', 'cholesterol_level'])['target'].mean().reset_index()\n",
    "segment_summary.rename(columns={'target': 'heart_disease_probability'}, inplace=True)\n",
    "\n",
    "print(\"\\nSegment Summary (Heart Disease Probability):\")\n",
    "print(segment_summary)"
   ]
  },
  {
   "cell_type": "code",
   "execution_count": 22,
   "id": "66c3fe48",
   "metadata": {},
   "outputs": [],
   "source": [
    "# Step 10: Simple Financial Equation (Revenue Prediction Example)\n",
    "def calculate_revenue(sales, product_unit_cost=500, monthly_cost=2000):\n",
    "    \"\"\"\n",
    "    Calculate revenue based on the formula: y = product_unit_cost * sales - monthly_cost\n",
    "    \n",
    "    Parameters:\n",
    "        sales (int): Number of units sold.\n",
    "        product_unit_cost (int): Cost per unit of the product (default: Rs. 500).\n",
    "        monthly_cost (int): Fixed monthly cost to run the business (default: Rs. 2000).\n",
    "    \n",
    "    Returns:\n",
    "        int: Total revenue.\n",
    "    \"\"\"\n",
    "    return product_unit_cost * sales - monthly_cost"
   ]
  },
  {
   "cell_type": "code",
   "execution_count": 23,
   "id": "18f02f69",
   "metadata": {},
   "outputs": [
    {
     "name": "stdout",
     "output_type": "stream",
     "text": [
      "\n",
      "Hypothetical Revenue for 300 sales: Rs. 148000\n"
     ]
    }
   ],
   "source": [
    "# Example: Simulate revenue based on hypothetical correct predictions (sales)\n",
    "hypothetical_sales = 300  # Assume we made 300 sales\n",
    "revenue = calculate_revenue(hypothetical_sales)\n",
    "print(f\"\\nHypothetical Revenue for {hypothetical_sales} sales: Rs. {revenue}\")"
   ]
  },
  {
   "cell_type": "code",
   "execution_count": null,
   "id": "f135e567",
   "metadata": {},
   "outputs": [],
   "source": []
  }
 ],
 "metadata": {
  "kernelspec": {
   "display_name": "Python 3 (ipykernel)",
   "language": "python",
   "name": "python3"
  },
  "language_info": {
   "codemirror_mode": {
    "name": "ipython",
    "version": 3
   },
   "file_extension": ".py",
   "mimetype": "text/x-python",
   "name": "python",
   "nbconvert_exporter": "python",
   "pygments_lexer": "ipython3",
   "version": "3.9.12"
  }
 },
 "nbformat": 4,
 "nbformat_minor": 5
}
